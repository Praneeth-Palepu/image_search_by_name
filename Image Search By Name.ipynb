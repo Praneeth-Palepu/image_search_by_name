{
 "cells": [
  {
   "cell_type": "code",
   "execution_count": 25,
   "id": "75ae30c4",
   "metadata": {},
   "outputs": [],
   "source": [
    "import face_recognition as fr\n",
    "import cv2\n",
    "import matplotlib.pyplot as plt\n",
    "\n",
    "import os, shutil"
   ]
  },
  {
   "cell_type": "code",
   "execution_count": 2,
   "id": "3d4a3d8a",
   "metadata": {},
   "outputs": [],
   "source": [
    "train_path = '/Users/prnpal/Documents/Photos/Train'\n",
    "\n",
    "test_path = '/Users/prnpal/Documents/Photos/Test'"
   ]
  },
  {
   "cell_type": "code",
   "execution_count": 3,
   "id": "d50fd037",
   "metadata": {},
   "outputs": [],
   "source": [
    "def get_encodings_by_name(image_name):\n",
    "    image = image_name+ \".jpg\"\n",
    "    # print(image)\n",
    "    image_path = os.path.join(train_path, image)\n",
    "    \n",
    "    if os.path.exists(image_path):\n",
    "        img = fr.load_image_file(image_path)\n",
    "        img_loc = fr.face_locations(img)\n",
    "        img_enc = fr.face_encodings(img, img_loc)[0]\n",
    "        \n",
    "        return img_enc\n",
    "    \n",
    "    else:\n",
    "        return None"
   ]
  },
  {
   "cell_type": "code",
   "execution_count": 32,
   "id": "769e1f11",
   "metadata": {},
   "outputs": [],
   "source": [
    "def image_search(image_name):\n",
    "    known_enc = get_encodings_by_name(image_name)\n",
    "    \n",
    "    if known_enc is None:\n",
    "        print(\"No Image name found\")\n",
    "    \n",
    "    else:\n",
    "        for img_name in os.listdir(test_path):\n",
    "            img = os.path.join(test_path, img_name)\n",
    "            # print(img)\n",
    "            test_img = fr.load_image_file(img)\n",
    "            test_locs = fr.face_locations(test_img)\n",
    "            \n",
    "            for loc in test_locs:\n",
    "                test_encs = fr.face_encodings(test_img, [loc])\n",
    "                    \n",
    "                if fr.compare_faces(known_enc, test_encs, 0.5)[0]:\n",
    "                    plt.imshow(test_img)\n",
    "                    plt.show()\n",
    "                    \n",
    "                    if os.path.exists(r'/Users/prnpal/Documents/Photos/'+image_name):\n",
    "                    \n",
    "                        shutil.copy(img, r'/Users/prnpal/Documents/Photos/'+image_name)\n",
    "                    \n",
    "                    else:\n",
    "                        os.makedirs(r'/Users/prnpal/Documents/Photos/'+image_name)\n",
    "                        shutil.copy(img, r'/Users/prnpal/Documents/Photos/'+image_name)\n",
    "                        "
   ]
  },
  {
   "cell_type": "code",
   "execution_count": 35,
   "id": "6c850407",
   "metadata": {},
   "outputs": [
    {
     "name": "stdout",
     "output_type": "stream",
     "text": [
      "Enter the name of the person to perform image search: Narmatha\n"
     ]
    }
   ],
   "source": [
    "name = input(\"Enter the name of the person to perform image search: \")"
   ]
  },
  {
   "cell_type": "code",
   "execution_count": null,
   "id": "655fd92e",
   "metadata": {},
   "outputs": [],
   "source": [
    "image_search(name)"
   ]
  },
  {
   "cell_type": "code",
   "execution_count": null,
   "id": "de71949a",
   "metadata": {},
   "outputs": [],
   "source": []
  }
 ],
 "metadata": {
  "kernelspec": {
   "display_name": "Python 3",
   "language": "python",
   "name": "python3"
  },
  "language_info": {
   "codemirror_mode": {
    "name": "ipython",
    "version": 3
   },
   "file_extension": ".py",
   "mimetype": "text/x-python",
   "name": "python",
   "nbconvert_exporter": "python",
   "pygments_lexer": "ipython3",
   "version": "3.9.4"
  }
 },
 "nbformat": 4,
 "nbformat_minor": 5
}
